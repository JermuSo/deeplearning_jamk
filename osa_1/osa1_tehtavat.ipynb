{
 "cells": [
  {
   "cell_type": "markdown",
   "metadata": {
    "collapsed": false,
    "jupyter": {
     "outputs_hidden": false
    }
   },
   "source": [
    "# Syväoppiminen: Osa 1: Perseptroni"
   ]
  },
  {
   "cell_type": "code",
   "execution_count": 1,
   "metadata": {
    "ExecuteTime": {
     "end_time": "2024-09-16T07:10:09.447720Z",
     "start_time": "2024-09-16T07:10:09.439741Z"
    },
    "collapsed": false,
    "jupyter": {
     "outputs_hidden": false
    }
   },
   "outputs": [],
   "source": [
    "# Kirjoita tähän tietosi!\n",
    "student_name = 'Jere Soininen'  # Oma nimesi tai nimet\n",
    "student_id = 'AB6802' # Oma opiskelijatunnus/tunnukset JAMK:ssa"
   ]
  },
  {
   "cell_type": "markdown",
   "metadata": {
    "collapsed": false,
    "jupyter": {
     "outputs_hidden": false
    }
   },
   "source": [
    "## Tehtävä 1-1\n",
    "### Aihe: Onnellisuus, Luokittelija: Perseptroni (max. 4 p)\n",
    "\n",
    "Tutustu aineistoon **Somerville Happiness Survey Data Set**, jonka saat ladattua osoitteesta\n",
    "[https://archive.ics.uci.edu/ml/datasets/Somerville+Happiness+Survey](https://archive.ics.uci.edu/ml/datasets/Somerville+Happiness+Survey).\n",
    "\n",
    "Esikäsittele aineisto. \n",
    "* Huomaa, että tiedosto on UTF-16-enkoodattu."
   ]
  },
  {
   "cell_type": "code",
   "execution_count": 2,
   "metadata": {
    "ExecuteTime": {
     "end_time": "2024-09-16T07:10:09.542468Z",
     "start_time": "2024-09-16T07:10:09.507582Z"
    },
    "collapsed": false,
    "jupyter": {
     "outputs_hidden": false
    }
   },
   "outputs": [
    {
     "name": "stdout",
     "output_type": "stream",
     "text": [
      "Columns: Index(['happy', 'info-availability', 'cost-of-housing',\n",
      "       'quality-public-schools', 'trust-in-local-police',\n",
      "       'maintenance-of-streets', 'social-event-availability'],\n",
      "      dtype='object')\n",
      "First row by position: happy                        0\n",
      "info-availability            3\n",
      "cost-of-housing              3\n",
      "quality-public-schools       3\n",
      "trust-in-local-police        4\n",
      "maintenance-of-streets       2\n",
      "social-event-availability    4\n",
      "Name: 0, dtype: int64\n"
     ]
    }
   ],
   "source": [
    "\n",
    "# Esikäsittelyn Toteutus on kirjoitettu tässä tehtävässä valmiiksi\n",
    "import pandas as pd\n",
    "\n",
    "df = pd.read_csv('data/SomervilleHappinessSurvey2015.csv', encoding='utf-16')\n",
    "\n",
    "feature_columns = [\n",
    "    'info-availability',\n",
    "    'cost-of-housing',\n",
    "    'quality-public-schools',\n",
    "    'trust-in-local-police',\n",
    "    'maintenance-of-streets',\n",
    "    'social-event-availability'\n",
    "]\n",
    "\n",
    "columns = ['happy'] + feature_columns\n",
    "\n",
    "df.columns = columns\n",
    "# Tallenna DataFrame df-muuttujaan ja koulutusaineisto.\n",
    "print(f'Columns: {df.columns}')\n",
    "print(f'First row by position: {df.iloc[0]}')"
   ]
  },
  {
   "cell_type": "markdown",
   "metadata": {
    "collapsed": false,
    "jupyter": {
     "outputs_hidden": false
    }
   },
   "source": [
    "Jaa  aineisto koulutus- (67%) ja testausaineistoon (33%) (`X_train`, `y_train`, `X_test`, `y_test`).\n",
    "Käytä satunnaissiementä `9001`."
   ]
  },
  {
   "cell_type": "code",
   "execution_count": 3,
   "metadata": {
    "ExecuteTime": {
     "end_time": "2024-09-16T07:10:10.788879Z",
     "start_time": "2024-09-16T07:10:09.576378Z"
    },
    "collapsed": false,
    "jupyter": {
     "outputs_hidden": false
    }
   },
   "outputs": [
    {
     "name": "stdout",
     "output_type": "stream",
     "text": [
      "143\n"
     ]
    }
   ],
   "source": [
    "# Kirjoita toteutuksesi tähän soluun.\n",
    "from sklearn.model_selection import train_test_split\n",
    "from sklearn.preprocessing import StandardScaler\n",
    "\n",
    "X = df.drop(columns=['happy'])\n",
    "y = df['happy']\n",
    "\n",
    "#X_train = X_test = []\n",
    "\n",
    "X_train, X_test, y_train, y_test = train_test_split(X, y, test_size=0.33, random_state=9001)\n",
    "\n",
    "ss = StandardScaler()\n",
    "ss.fit(X_train)\n",
    "X_train = ss.transform(X_train)\n",
    "X_test = ss.transform(X_test)\n",
    "\n",
    "print(len(df))"
   ]
  },
  {
   "cell_type": "code",
   "execution_count": 4,
   "metadata": {
    "ExecuteTime": {
     "end_time": "2024-09-16T07:10:11.116410Z",
     "start_time": "2024-09-16T07:10:11.104440Z"
    },
    "collapsed": false,
    "jupyter": {
     "outputs_hidden": false
    }
   },
   "outputs": [
    {
     "name": "stdout",
     "output_type": "stream",
     "text": [
      "Test length: 48\n",
      "Train length: 95\n"
     ]
    }
   ],
   "source": [
    "# Tehtävän vastaukset. Huom! Älä muokkaa tätä solua, vaan aja se, kun olet suorittanut tehtävän.\n",
    "print(f'Test length: {len(X_test)}')\n",
    "print(f'Train length: {len(X_train)}')"
   ]
  },
  {
   "cell_type": "markdown",
   "metadata": {
    "collapsed": false,
    "jupyter": {
     "outputs_hidden": false
    }
   },
   "source": [
    "### Lineaarinen perseptroni-luokittelija\n",
    "\n",
    "1. Käytä `scikit-learn`-kirjaston lineaarista perseptronia luodaksesi luokittelija. Tallenna luokittelija `pc`-muuttujaan.\n",
    "\n",
    "2. Ennusta testausaineistosi todennäköisyys olla luokassa käyttäen luokittelijaasi ja tallenna luottamuspisteet muuttujaan `y_score`. Tallenna ennustettujen luokkien tulos muuttujaan `y_pred`. Vinkki: `decision_function()`.\n",
    "\n",
    "3. Tallenna luokitteluraportti `cr` ja sekaannusmatriisi `cm` käyttäen `metrics`-moduulia.\n",
    "\n",
    "4. Laske regressiolle ROC-arvot `scikit-learn`-kirjaston `metrics`-moduulin avulla. Laske myös ROC-käyrän alainen alue muuttujaa `auc`. Piirrä kynnysarvon optimointikäyrä `matplotlib`-kirjastolla.\n",
    "\n",
    "5. Kirjoita `pohdinta`-merkkijonomuuttujaan mitä ajatuksia ROC-käyrä ja tarkkuus herättävät."
   ]
  },
  {
   "cell_type": "code",
   "execution_count": 5,
   "metadata": {
    "ExecuteTime": {
     "end_time": "2024-09-16T07:10:11.569724Z",
     "start_time": "2024-09-16T07:10:11.157299Z"
    },
    "collapsed": false,
    "jupyter": {
     "outputs_hidden": false
    }
   },
   "outputs": [],
   "source": [
    "# TODO: Kirjoita toteutuksesi tähän soluun.\n",
    "from sklearn.linear_model import Perceptron\n",
    "from sklearn.metrics import accuracy_score\n",
    "from sklearn.metrics import classification_report, confusion_matrix, ConfusionMatrixDisplay\n",
    "\n",
    "cr = cm = None\n",
    "\n",
    "# Manuaalista : The “balanced” mode uses the values of y to automatically adjust weights inversely proportional to class frequencies in the input data as n_samples / (n_classes * np.bincount(y)). Tämä paransi hieman tulosta.\n",
    "pc = Perceptron(class_weight='balanced')\n",
    "\n",
    "pc.fit(X_train, y_train)\n",
    "\n",
    "y_score = pc.decision_function(X_test)\n",
    "\n",
    "y_pred = pc.predict(X_test)\n",
    "\n",
    "# TODO: luokittelutuloksesi tarkkuus sekä sekaannusmatriisi (confusion matrix)\n",
    "cr = classification_report(y_test, y_pred)\n",
    "cm = confusion_matrix(y_test, y_pred)\n",
    "#X_test = y_test = None"
   ]
  },
  {
   "cell_type": "code",
   "execution_count": 6,
   "metadata": {
    "ExecuteTime": {
     "end_time": "2024-09-16T07:10:11.622582Z",
     "start_time": "2024-09-16T07:10:11.612608Z"
    },
    "collapsed": false,
    "jupyter": {
     "outputs_hidden": false
    }
   },
   "outputs": [
    {
     "name": "stdout",
     "output_type": "stream",
     "text": [
      "Perceptron average test accuracy: 0.5625\n"
     ]
    }
   ],
   "source": [
    "# Tehtävän vastaukset. Huom! Älä muokkaa tätä solua, vaan aja se, kun olet suorittanut tehtävän.\n",
    "print(f'Perceptron average test accuracy: {pc.score(X_test, y_test)}')"
   ]
  },
  {
   "cell_type": "markdown",
   "metadata": {
    "ExecuteTime": {
     "end_time": "2024-09-16T07:10:11.669458Z",
     "start_time": "2024-09-16T07:10:11.660482Z"
    },
    "collapsed": false,
    "jupyter": {
     "outputs_hidden": false
    }
   },
   "source": [
    "### Pohdinta\n",
    "\n",
    "Minulla on ollut hieman väärä käsitys ROC käyrästä ja olenkin nyt käyttänyt aikaa jotta ymmärtäisin sitä paremmin. Luokkaa 0 eli onnettomia ennustettiin huonosti, jolloin roc käyrä ja tarkkuus on heikkoa.\n",
    "\n",
    "On kuitenkin hämäävää kun luokan 0 accuracy on korkeampi vaikkakin cm näyttää luokassa 0 huonoa menestystä. Tämä johtuu ymmärtääkseni siitä, että arvo katsoo vain ennustuksia joita malli luokitteli luokkaan 0, eikä niitä jotka se sai väärin.\n",
    "Siis kun malli ennusti arvon luokkaan 0, se oli 75% ajasta oikeassa ja kun mietin tarkemmin niin näinhän se on, sillä 12 arvoa ennustettiin luokkaan 0 ja 9 oli oikein. Keskityinkin näköjään tässä arvossa liikaa oíkeisiin arvoihin.\n",
    "\n",
    "Luokan 1 accuracy oli huonoa sen takia kun malli ennusti 36 arvoa luokkaan yksi vaikka oikeasti arvot olivat 50/50 jakaumalla. Miksi näin oli? Yleensä kun malli tekee näin, on helppo laittaa ennustuksien epätasapaino datan epätasapainon piikkiin, mutta\n",
    "tässä se oli jakautunut täysin puoliksi. Mallimme on lineaarinen jaoitukseltaan eli se haluaa piirtää  viivan luokkien väliin. Tämä ei ole kovin hyvä silloin, kun luokat eivät ole lineaarisesti eroteltavissa. Ehkä tässä voisi suoraan päätellä, että malli ei ole hyvä ennustamaan ihmisten onnellisuutta, sillä siitä voisi uskoa ettei onnellisuus ole lineaarisesti jaoiteltavissa ja se on monimutkainen ennustaa. Tämä pohdinta venyi turhan pitkäksi mutta nyt pitää jatkaa seuraavaan tehtävään."
   ]
  },
  {
   "cell_type": "code",
   "execution_count": 7,
   "metadata": {
    "ExecuteTime": {
     "end_time": "2024-09-16T07:10:11.720320Z",
     "start_time": "2024-09-16T07:10:11.706359Z"
    },
    "collapsed": false,
    "jupyter": {
     "outputs_hidden": false
    }
   },
   "outputs": [
    {
     "name": "stdout",
     "output_type": "stream",
     "text": [
      "Classification report:\n",
      "               precision    recall  f1-score   support\n",
      "\n",
      "           0       0.59      0.42      0.49        24\n",
      "           1       0.55      0.71      0.62        24\n",
      "\n",
      "    accuracy                           0.56        48\n",
      "   macro avg       0.57      0.56      0.55        48\n",
      "weighted avg       0.57      0.56      0.55        48\n",
      "\n",
      "Confusion matrix:\n",
      " [[10 14]\n",
      " [ 7 17]]\n"
     ]
    },
    {
     "data": {
      "image/png": "[encoded data removed]",
      "text/plain": [
       "<Figure size 1200x600 with 1 Axes>"
      ]
     },
     "metadata": {},
     "output_type": "display_data"
    }
   ],
   "source": [
    "# Tehtävän vastaukset. Huom! Älä muokkaa tätä solua, vaan aja se, kun olet suorittanut tehtävän.\n",
    "# Tee vastauksesi siten, että tämän solun tuloksena näkyy alla myös kaaviokuva.\n",
    "\n",
    "#cr = cm = auc = fig = None\n",
    "\n",
    "print(f'Classification report:\\n {cr}')\n",
    "print(f'Confusion matrix:\\n {cm}')\n",
    "#print(f'auc: {auc}')\n",
    "#print(f'Pohdinta: {pohdinta}')\n",
    "\n",
    "# TODO: Visualisoi tulokset\n",
    "from sklearn.metrics import roc_curve, auc\n",
    "import matplotlib.pyplot as plt\n",
    "import numpy as np\n",
    "# AUC = area under curve\n",
    "fpr, tpr, _ = roc_curve(y_test, y_score)\n",
    "roc_auc = auc(fpr, tpr)\n",
    "\n",
    "#print(tpr)\n",
    "\n",
    "fig, ax1 = plt.subplots(figsize=(12, 6))\n",
    "\n",
    "ax1.plot(fpr, tpr, label='ROC-käyrä (AUC = %0.2f)' % roc_auc)\n",
    "ax1.plot([0, 1], [0, 1], linestyle='--')\n",
    "ax1.set_title('ROC')\n",
    "ax1.set_xlabel('FPR')\n",
    "ax1.set_ylabel('TPR')\n",
    "ax1.legend(loc='lower right')\n",
    "\n",
    "\n",
    "plt.tight_layout()\n",
    "plt.show()\n"
   ]
  },
  {
   "cell_type": "markdown",
   "metadata": {
    "collapsed": false,
    "jupyter": {
     "outputs_hidden": false
    }
   },
   "source": [
    "## Tehtävä 1-2\n",
    "### Aihe: Uutisryhmien viestit, Luokittelija: Perseptroni (max. 3 p)\n",
    "\n",
    "Tarkista seuraava aineistoon, josta data ladataan:\n",
    "\n",
    "* `sklearn.datasets.fetch_20newsgroups`\n",
    "\n",
    "Nämä aineistot sisältävät 20 uutisryhmään lähetetyt viestit. Aineistoja ei tarvitse esikäsitellä ollenkaan.\n",
    "Luokituksessa käytetään tässä tehtävässä seuraavia luokkia:\n",
    "\n",
    "* _categories_: `['rec.sport.hockey', 'rec.sport.baseball', 'rec.autos']`\n",
    "* _categories_2_: `['comp.graphics', 'comp.os.ms-windows.misc', 'comp.windows.x']`\n",
    "\n",
    "Huomaa, että aineisto on jo valmiiksi jaettu testi- ja koulutusaineistoon (`fetch_20newsgroups(subset)`). `test \\ train` jako siis tehty.\n",
    "\n",
    "Käytä tehtävissä seuraavia muuttujia koulutus- ja testiaineistojen kanssa (`\"X_train\", \"y_train\", \"X_test\", \"y_test\"`).\n",
    "\n",
    "Muunna sekä koulutus- että testidataa `TfidfVectorizer`-luokan menetelmillä.\n",
    "* Skaalaus ei ole tarpeen tämän jälkeen\n",
    "* Tulosta tavalliseen tapaan datanäytteitä nähdäksesi, ovatko arvot oikeassa skaalassa välillä **0-1**.\n",
    "\n"
   ]
  },
  {
   "cell_type": "code",
   "execution_count": 8,
   "metadata": {
    "ExecuteTime": {
     "end_time": "2024-09-16T07:10:15.860396Z",
     "start_time": "2024-09-16T07:10:11.757223Z"
    },
    "collapsed": false,
    "jupyter": {
     "outputs_hidden": false
    }
   },
   "outputs": [],
   "source": [
    "from sklearn.datasets import fetch_20newsgroups\n",
    "from sklearn.metrics import classification_report, confusion_matrix, ConfusionMatrixDisplay\n",
    "from sklearn.feature_extraction.text import TfidfVectorizer\n",
    "from sklearn.linear_model import Perceptron\n",
    "import matplotlib.pyplot as plt\n",
    "\n",
    "categories = ['rec.sport.hockey', 'rec.sport.baseball', 'rec.autos']\n",
    "# oli taas ensin vähän hämmennystä kunnes jatkoin kolmoseen...\n",
    "#categories_2 = ['comp.graphics', 'comp.os.ms-windows.misc', 'comp.windows.x']\n",
    "\n",
    "#all_categories = categories + categories_2\n",
    "\n",
    "# TODO: aseta valittavan testijoukon nimi (subset) ja kategoriat (categories)\n",
    "ng_train = fetch_20newsgroups(subset='train', categories=categories,\n",
    "                              remove=('headers', 'footers', 'quotes'))\n",
    "ng_test = fetch_20newsgroups(subset='test', categories=categories,\n",
    "                             remove=('headers', 'footers', 'quotes'))\n",
    "\n",
    "vectorizer = TfidfVectorizer()\n",
    "\n",
    "# TODO: Muunna koulutusaineisto numeeriseksi fit_transform()-metodilla.\n",
    "# TODO: Muunna myös testiaineisto transform()-metodia käyttäen.\n",
    "\n",
    "X_train = vectorizer.fit_transform(ng_train.data)\n",
    "y_train = ng_train.target\n",
    "\n",
    "X_test = vectorizer.transform(ng_test.data)\n",
    "y_test = ng_test.target\n",
    "\n",
    "#print(X_train[:3])\n",
    "#print(X_test[:3])"
   ]
  },
  {
   "cell_type": "markdown",
   "metadata": {
    "collapsed": false,
    "jupyter": {
     "outputs_hidden": false
    }
   },
   "source": [
    "1. Käytä `scikit-learn`-kirjaston lineaarista perseptronia luodaksesi luokittelija. Tallenna luokittelija `pc`-muuttujaan. Käytä satunnaissiementä `12501`.\n",
    "\n",
    "2. Ennusta testausaineistosi todennäköisyys olla luokassa käyttäen luokittelijaasi ja tallenna luottamuspisteet muuttujaan `y_score`. Tallenna ennustettujen luokkien tulos muuttujaan `y_pred`.\n",
    "\n",
    "3. Tallenna luokitteluraportti `cr` ja sekaannusmatriisi `cm` käyttäen `metrics`-moduulia."
   ]
  },
  {
   "cell_type": "code",
   "execution_count": 9,
   "metadata": {
    "ExecuteTime": {
     "end_time": "2024-09-16T07:10:15.871348300Z",
     "start_time": "2024-08-21T13:23:06.785343Z"
    },
    "collapsed": false,
    "jupyter": {
     "outputs_hidden": false
    }
   },
   "outputs": [],
   "source": [
    "# TODO: Kirjoita toteutuksesi tähän soluun.\n",
    "\n",
    "cr = cm = None\n",
    "\n",
    "pc = Perceptron(random_state=12501, n_iter_no_change=50)\n",
    "\n",
    "pc.fit(X_train, y_train)\n",
    "\n",
    "y_score = pc.decision_function(X_test)\n",
    "\n",
    "y_pred = pc.predict(X_test)\n",
    "\n",
    "# TODO: luokittelutuloksesi tarkkuus sekä sekaannusmatriisi (confusion matrix)\n",
    "cr = classification_report(y_test, y_pred)\n",
    "cm = confusion_matrix(y_test, y_pred)"
   ]
  },
  {
   "cell_type": "code",
   "execution_count": 10,
   "metadata": {
    "ExecuteTime": {
     "end_time": "2024-09-16T07:10:15.873343200Z",
     "start_time": "2024-08-21T13:23:06.787340Z"
    },
    "collapsed": false,
    "jupyter": {
     "outputs_hidden": false
    }
   },
   "outputs": [
    {
     "name": "stdout",
     "output_type": "stream",
     "text": [
      "Predict: [1 2 0 ... 0 2 0] and score: [[-0.21437599  0.33986946 -0.35453969]\n",
      " [-0.3811092  -0.15419101 -0.01741706]\n",
      " [ 0.13018903 -0.92359727 -0.43527784]\n",
      " ...\n",
      " [ 0.01711722 -0.12477295 -0.23293169]\n",
      " [-0.77755308 -0.74918322  0.59417642]\n",
      " [ 0.21410956 -0.07639056 -0.1688701 ]]\n",
      "Perceptron average test accuracy: 0.8573825503355704\n",
      "[[369  15  12]\n",
      " [ 42 304  51]\n",
      " [ 24  26 349]]\n",
      "              precision    recall  f1-score   support\n",
      "\n",
      "           0       0.85      0.93      0.89       396\n",
      "           1       0.88      0.77      0.82       397\n",
      "           2       0.85      0.87      0.86       399\n",
      "\n",
      "    accuracy                           0.86      1192\n",
      "   macro avg       0.86      0.86      0.86      1192\n",
      "weighted avg       0.86      0.86      0.86      1192\n",
      "\n"
     ]
    }
   ],
   "source": [
    "# Tehtävän vastauksien ajaminen. Huom! Älä muokkaa tätä solua, vaan aja se, kun olet suorittanut tehtävän.\n",
    "\n",
    "print(f\"Predict: {y_pred} and score: {y_score}\")\n",
    "print(f'Perceptron average test accuracy: {pc.score(X_test, ng_test.target)}')\n",
    "print(cm)  # verrataan toteutuneita arvoja ennusteisin\n",
    "print(cr)"
   ]
  },
  {
   "cell_type": "markdown",
   "metadata": {
    "collapsed": false,
    "jupyter": {
     "outputs_hidden": false
    }
   },
   "source": [
    "Piirretään kuva sekaannusmatriisista"
   ]
  },
  {
   "cell_type": "code",
   "execution_count": 11,
   "metadata": {
    "ExecuteTime": {
     "end_time": "2024-09-16T07:10:15.874340Z",
     "start_time": "2024-08-21T13:23:06.789363Z"
    },
    "collapsed": false,
    "jupyter": {
     "outputs_hidden": false
    }
   },
   "outputs": [
    {
     "data": {
      "image/png": "[encoded data removed]",
      "text/plain": [
       "<Figure size 640x480 with 2 Axes>"
      ]
     },
     "metadata": {},
     "output_type": "display_data"
    }
   ],
   "source": [
    "# TODO: sekaannusmatriisin piirtäminen\n",
    "ConfusionMatrixDisplay.from_predictions(y_test, y_pred)\n",
    "plt.show()"
   ]
  },
  {
   "cell_type": "markdown",
   "metadata": {
    "collapsed": false,
    "jupyter": {
     "outputs_hidden": false
    }
   },
   "source": [
    "# Tehtävä 1-3\n",
    "### Aihe: Uutisryhmien viestit, osa II (max. 2 p)\n",
    "\n",
    "Toteuta sama tehtävä kuin kohdassa 1-2, mutta toisella `categories_2` -kategorialistalla. Tarkoitus on myös verrata sanallisesti tehtävistä 1-2 ja 1-3 saatuja tuloksia toisiinsa. \n",
    "  \n",
    "* **Pohdinta**: Vertaa uutisryhmien opetustuloksia tehtävissä 1-2 sekä 1-3 toisiinsa ja pohdi sanallisesti, että mistä mahdolliset erot saaduissa tuloksissa johtuvat.\n",
    "\n"
   ]
  },
  {
   "cell_type": "code",
   "execution_count": 12,
   "metadata": {
    "ExecuteTime": {
     "end_time": "2024-09-16T07:10:15.876334800Z",
     "start_time": "2024-08-21T13:23:06.790330Z"
    },
    "collapsed": false,
    "jupyter": {
     "outputs_hidden": false
    }
   },
   "outputs": [],
   "source": [
    "from sklearn.datasets import fetch_20newsgroups\n",
    "from sklearn.metrics import classification_report, confusion_matrix, ConfusionMatrixDisplay\n",
    "from sklearn.feature_extraction.text import TfidfVectorizer\n",
    "from sklearn.linear_model import Perceptron\n",
    "import matplotlib.pyplot as plt\n",
    "\n",
    "categories_2 = ['comp.graphics', 'comp.os.ms-windows.misc', 'comp.windows.x']\n",
    "\n",
    "# TODO: aseta valittavan testijoukon nimi (subset) ja kategoriat (categories)\n",
    "ng_train = fetch_20newsgroups(subset='train', categories=categories_2,\n",
    "                              remove=('headers', 'footers', 'quotes'))\n",
    "ng_test = fetch_20newsgroups(subset='test', categories=categories_2,\n",
    "                             remove=('headers', 'footers', 'quotes'))\n",
    "\n",
    "vectorizer = TfidfVectorizer()\n",
    "\n",
    "# TODO: Muunna opetusaineisto fit_transform()-metodilla\n",
    "# TODO: Muunna myös testiaineisto transform()-metodia käyttäen.\n",
    "X_train = vectorizer.fit_transform(ng_train.data)\n",
    "y_train = ng_train.target\n",
    "\n",
    "X_test = vectorizer.transform(ng_test.data)\n",
    "y_test = ng_test.target\n",
    "\n",
    "#print(X_train[:3])\n",
    "#print(X_test[:3])\n",
    "\n",
    "cr = cm = None\n",
    "\n",
    "pc = Perceptron(random_state=12501, n_iter_no_change=50)\n",
    "\n",
    "pc.fit(X_train, y_train)\n",
    "\n",
    "y_score = pc.decision_function(X_test)\n",
    "\n",
    "y_pred = pc.predict(X_test)\n",
    "\n",
    "# TODO: luokittelutuloksesi tarkkuus sekä sekaannusmatriisi (confusion matrix)\n",
    "cr = classification_report(y_test, y_pred)\n",
    "cm = confusion_matrix(y_test, y_pred)"
   ]
  },
  {
   "cell_type": "code",
   "execution_count": 13,
   "metadata": {
    "ExecuteTime": {
     "end_time": "2024-09-16T07:10:15.878330600Z",
     "start_time": "2024-08-21T13:23:06.792325Z"
    },
    "collapsed": false,
    "jupyter": {
     "outputs_hidden": false
    }
   },
   "outputs": [
    {
     "name": "stdout",
     "output_type": "stream",
     "text": [
      "Predict: [0 2 1 ... 0 1 1] and score: [[ 0.84276273 -0.58382861 -0.68569055]\n",
      " [-0.16948789 -0.9475009   0.14387541]\n",
      " [-0.29073026  0.14921917 -0.13198545]\n",
      " ...\n",
      " [ 0.38981809 -0.45068785 -0.68508433]\n",
      " [-0.70800712  0.83958095 -1.17308054]\n",
      " [-0.38586745 -0.02650655 -0.7740586 ]]\n",
      "Perceptron average test accuracy: 0.7283531409168081\n",
      "[[305  43  41]\n",
      " [ 84 286  24]\n",
      " [ 78  50 267]]\n",
      "              precision    recall  f1-score   support\n",
      "\n",
      "           0       0.65      0.78      0.71       389\n",
      "           1       0.75      0.73      0.74       394\n",
      "           2       0.80      0.68      0.73       395\n",
      "\n",
      "    accuracy                           0.73      1178\n",
      "   macro avg       0.74      0.73      0.73      1178\n",
      "weighted avg       0.74      0.73      0.73      1178\n",
      "\n"
     ]
    }
   ],
   "source": [
    "# Tehtävän vastauksien ajaminen. Huom! Älä muokkaa tätä solua, vaan aja se, kun olet suorittanut tehtävän.\n",
    "\n",
    "print(f\"Predict: {y_pred} and score: {y_score}\")\n",
    "print(f'Perceptron average test accuracy: {pc.score(X_test, ng_test.target)}')\n",
    "print(confusion_matrix(ng_test.target, y_pred))  # verrataan toteutuneita arvoja ennusteisin\n",
    "print(classification_report(ng_test.target, y_pred))"
   ]
  },
  {
   "cell_type": "markdown",
   "metadata": {
    "collapsed": false,
    "jupyter": {
     "outputs_hidden": false
    }
   },
   "source": [
    "Sekaannusmatriisin piirtäminen `categories_2` -datalla:"
   ]
  },
  {
   "cell_type": "code",
   "execution_count": 14,
   "metadata": {
    "collapsed": false,
    "jupyter": {
     "outputs_hidden": false
    }
   },
   "outputs": [
    {
     "data": {
      "image/png": "[encoded data removed]",
      "text/plain": [
       "<Figure size 640x480 with 2 Axes>"
      ]
     },
     "metadata": {},
     "output_type": "display_data"
    }
   ],
   "source": [
    "# TODO: sekaannusmatriisin piirtäminen\n",
    "ConfusionMatrixDisplay.from_predictions(y_test, y_pred)\n",
    "plt.show()"
   ]
  },
  {
   "cell_type": "markdown",
   "metadata": {
    "collapsed": false,
    "jupyter": {
     "outputs_hidden": false
    }
   },
   "source": [
    "### Tulosten pohdinta \n",
    "\n",
    "* **TODO**: POHDINTA TULOKSISTA. \n",
    "* **TODO**: MISTÄ EROT SAADUISSA TULOKSISSA JOHTUVAT?\n",
    "\n",
    "Ensimmäisten kategorioiden ennustus onnistui paremmin, kuin toisten. Ensimmäinen ajastus mikä tulee mieleen on, että toisen kategorian luokissa voisi olla enemmän päällekkäisyyksiä viestin sisällöissä kuin ensimmäisissä.\n",
    "\n",
    "Toisissa oli tietokoneisiin liittyviä viestejä, ja aiheina grafiikkajuttuja, Microsoftin Windows sekä \"X Window System on bittikarttanäytöille kehitetty ikkunointijärjestelmä\". Kun miettii miten itse näistä keskustelisi, ja katsoo matriisia, niin on hyvin loogista että esim luokkaa 0 ennustetiin paljon muihinkin luokkiin ja yhteensä 467 kertaa. Luokkiin 1 ja 2 varmasti mahtuu paljon grafiikka aiheista keskustelua, jolloin malli voi sekoittaa näitä. Sama logiikka pätee myös ristiin useammalla yhtälölle tässä matriisissa.\n",
    "\n",
    "Ensimmäisessä luokassa oli 'rec.sport.hockey', 'rec.sport.baseball', 'rec.autos. Vaikkakin nämäkin aiheet mahtuvat saman otsikon alle, niin käytännön keskustelut sekä viestin sisällöt voivat poiketa toisistaan enemmän. baseballia ennustettiin eniten väärin, mutta en nää yhtä selkeää syytä kuin toisessa ryhmässä. On loogista miksi autoa ei ennustettu niin paljoa väärin, muttta on erikoista miksi jääkiekon ja baseballin ero on noin selkeä. Ehkä jääkiekkoon liittyneet viestit oltiin tuotu vahvemmin esille tähän liittyvään konteksiin, jolloin virheitä ei tullut niin paljoa. Jääkiekkossa voisi olla enemmmän harvinaisempia lajikohtaisia sanoja?\n",
    "\n",
    "Yleisesti kuitenkin luokkien ennustus onnistui mielestäni paremmin kuin aivan ensimmäisessä tehtävässä. Tämä voisi johtua siitä mitä aijemmin arvelin: ihmisten onnillisuutta on huomattavasti vaikempi ennustaa viivaa piirtämällä kuin sanoin kirjoitettuja viestejä."
   ]
  },
  {
   "cell_type": "code",
   "execution_count": null,
   "metadata": {},
   "outputs": [],
   "source": []
  }
 ],
 "metadata": {
  "kernelspec": {
   "display_name": "Python 3 (ipykernel)",
   "language": "python",
   "name": "python3"
  },
  "language_info": {
   "codemirror_mode": {
    "name": "ipython",
    "version": 3
   },
   "file_extension": ".py",
   "mimetype": "text/x-python",
   "name": "python",
   "nbconvert_exporter": "python",
   "pygments_lexer": "ipython3",
   "version": "3.10.13"
  }
 },
 "nbformat": 4,
 "nbformat_minor": 4
}
