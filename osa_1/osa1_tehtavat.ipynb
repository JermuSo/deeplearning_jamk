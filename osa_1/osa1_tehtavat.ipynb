{
 "cells": [
  {
   "cell_type": "markdown",
   "source": [
    "# Syväoppiminen: Osa 1: Perseptroni"
   ],
   "metadata": {
    "collapsed": false
   }
  },
  {
   "cell_type": "code",
   "source": [
    "# Kirjoita tähän tietosi!\n",
    "student_name = 'Opiskelijan nimi tai Opiskelijoiden nimet'  # Oma nimesi tai nimet\n",
    "student_id = 'JAMK-opiskelijatunnus tai JAMK-opiskelijatunnukset' # Oma opiskelijatunnus/tunnukset JAMK:ssa"
   ],
   "metadata": {
    "collapsed": false,
    "ExecuteTime": {
     "end_time": "2024-09-16T07:10:09.447720Z",
     "start_time": "2024-09-16T07:10:09.439741Z"
    }
   },
   "outputs": [],
   "execution_count": 1
  },
  {
   "cell_type": "markdown",
   "source": [
    "## Tehtävä 1-1\n",
    "### Aihe: Onnellisuus, Luokittelija: Perseptroni (max. 4 p)\n",
    "\n",
    "Tutustu aineistoon **Somerville Happiness Survey Data Set**, jonka saat ladattua osoitteesta\n",
    "[https://archive.ics.uci.edu/ml/datasets/Somerville+Happiness+Survey](https://archive.ics.uci.edu/ml/datasets/Somerville+Happiness+Survey).\n",
    "\n",
    "Esikäsittele aineisto. \n",
    "* Huomaa, että tiedosto on UTF-16-enkoodattu."
   ],
   "metadata": {
    "collapsed": false
   }
  },
  {
   "cell_type": "code",
   "source": [
    "\n",
    "# Esikäsittelyn Toteutus on kirjoitettu tässä tehtävässä valmiiksi\n",
    "import pandas as pd\n",
    "\n",
    "df = pd.read_csv('data/SomervilleHappinessSurvey2015.csv', encoding='utf-16')\n",
    "\n",
    "feature_columns = [\n",
    "    'info-availability',\n",
    "    'cost-of-housing',\n",
    "    'quality-public-schools',\n",
    "    'trust-in-local-police',\n",
    "    'maintenance-of-streets',\n",
    "    'social-event-availability'\n",
    "]\n",
    "\n",
    "columns = ['happy'] + feature_columns\n",
    "\n",
    "df.columns = columns\n",
    "# Tallenna DataFrame df-muuttujaan ja koulutusaineisto.\n",
    "print(f'Columns: {df.columns}')\n",
    "print(f'First row by position: {df.iloc[0]}')"
   ],
   "metadata": {
    "collapsed": false,
    "ExecuteTime": {
     "end_time": "2024-09-16T07:10:09.542468Z",
     "start_time": "2024-09-16T07:10:09.507582Z"
    }
   },
   "outputs": [
    {
     "name": "stdout",
     "output_type": "stream",
     "text": [
      "Columns: Index(['happy', 'info-availability', 'cost-of-housing',\n",
      "       'quality-public-schools', 'trust-in-local-police',\n",
      "       'maintenance-of-streets', 'social-event-availability'],\n",
      "      dtype='object')\n",
      "First row by position: happy                        0\n",
      "info-availability            3\n",
      "cost-of-housing              3\n",
      "quality-public-schools       3\n",
      "trust-in-local-police        4\n",
      "maintenance-of-streets       2\n",
      "social-event-availability    4\n",
      "Name: 0, dtype: int64\n"
     ]
    }
   ],
   "execution_count": 2
  },
  {
   "cell_type": "markdown",
   "source": [
    "Jaa  aineisto koulutus- (67%) ja testausaineistoon (33%) (`X_train`, `y_train`, `X_test`, `y_test`).\n",
    "Käytä satunnaissiementä `9001`."
   ],
   "metadata": {
    "collapsed": false
   }
  },
  {
   "cell_type": "code",
   "source": [
    "# Kirjoita toteutuksesi tähän soluun.\n",
    "from sklearn.model_selection import train_test_split\n",
    "from sklearn.preprocessing import StandardScaler\n",
    "\n",
    "X = df.drop(columns='happy')\n",
    "\n",
    "X_train = X_test = []"
   ],
   "metadata": {
    "collapsed": false,
    "ExecuteTime": {
     "end_time": "2024-09-16T07:10:10.788879Z",
     "start_time": "2024-09-16T07:10:09.576378Z"
    }
   },
   "outputs": [],
   "execution_count": 3
  },
  {
   "cell_type": "code",
   "source": [
    "# Tehtävän vastaukset. Huom! Älä muokkaa tätä solua, vaan aja se, kun olet suorittanut tehtävän.\n",
    "print(f'Test length: {len(X_test)}')\n",
    "print(f'Train length: {len(X_train)}')"
   ],
   "metadata": {
    "collapsed": false,
    "ExecuteTime": {
     "end_time": "2024-09-16T07:10:11.116410Z",
     "start_time": "2024-09-16T07:10:11.104440Z"
    }
   },
   "outputs": [
    {
     "name": "stdout",
     "output_type": "stream",
     "text": [
      "Test length: 0\n",
      "Train length: 0\n"
     ]
    }
   ],
   "execution_count": 4
  },
  {
   "cell_type": "markdown",
   "source": [
    "### Lineaarinen perseptroni-luokittelija\n",
    "\n",
    "1. Käytä `scikit-learn`-kirjaston lineaarista perseptronia luodaksesi luokittelija. Tallenna luokittelija `pc`-muuttujaan.\n",
    "\n",
    "2. Ennusta testausaineistosi todennäköisyys olla luokassa käyttäen luokittelijaasi ja tallenna luottamuspisteet muuttujaan `y_score`. Tallenna ennustettujen luokkien tulos muuttujaan `y_pred`. Vinkki: `decision_function()`.\n",
    "\n",
    "3. Tallenna luokitteluraportti `cr` ja sekaannusmatriisi `cm` käyttäen `metrics`-moduulia.\n",
    "\n",
    "4. Laske regressiolle ROC-arvot `scikit-learn`-kirjaston `metrics`-moduulin avulla. Laske myös ROC-käyrän alainen alue muuttujaa `auc`. Piirrä kynnysarvon optimointikäyrä `matplotlib`-kirjastolla.\n",
    "\n",
    "5. Kirjoita `pohdinta`-merkkijonomuuttujaan mitä ajatuksia ROC-käyrä ja tarkkuus herättävät."
   ],
   "metadata": {
    "collapsed": false
   }
  },
  {
   "cell_type": "code",
   "source": [
    "# TODO: Kirjoita toteutuksesi tähän soluun.\n",
    "from sklearn.linear_model import Perceptron\n",
    "\n",
    "pc = Perceptron()\n",
    "\n",
    "X_test = y_test = None\n"
   ],
   "metadata": {
    "collapsed": false,
    "ExecuteTime": {
     "end_time": "2024-09-16T07:10:11.569724Z",
     "start_time": "2024-09-16T07:10:11.157299Z"
    }
   },
   "outputs": [],
   "execution_count": 5
  },
  {
   "cell_type": "code",
   "source": [
    "# Tehtävän vastaukset. Huom! Älä muokkaa tätä solua, vaan aja se, kun olet suorittanut tehtävän.\n",
    "#print(f'Perceptron average test accuracy: {pc.score(X_test, y_test)}')"
   ],
   "metadata": {
    "collapsed": false,
    "ExecuteTime": {
     "end_time": "2024-09-16T07:10:11.622582Z",
     "start_time": "2024-09-16T07:10:11.612608Z"
    }
   },
   "outputs": [],
   "execution_count": 6
  },
  {
   "cell_type": "code",
   "source": [
    "# TODO: Kirjoita toteutuksesi tähän soluun.\n",
    "\n",
    "# TODO: Pohdintaa. Ajatuksia saatujen tulosten tarkkuudesta ja ROC-käyrästä\n",
    "pohdinta = \"??????????\""
   ],
   "metadata": {
    "collapsed": false,
    "ExecuteTime": {
     "end_time": "2024-09-16T07:10:11.669458Z",
     "start_time": "2024-09-16T07:10:11.660482Z"
    }
   },
   "outputs": [],
   "execution_count": 7
  },
  {
   "cell_type": "code",
   "source": [
    "# Tehtävän vastaukset. Huom! Älä muokkaa tätä solua, vaan aja se, kun olet suorittanut tehtävän.\n",
    "# Tee vastauksesi siten, että tämän solun tuloksena näkyy alla myös kaaviokuva.\n",
    "\n",
    "cr = cm = auc = fig = None\n",
    "\n",
    "print(f'Classification report:\\n {cr}')\n",
    "print(f'Confusion matrix:\\n {cm}')\n",
    "print(f'auc: {auc}')\n",
    "print(f'Pohdinta: {pohdinta}')\n",
    "\n",
    "# TODO: Visualisoi tulokset\n",
    "fig\n"
   ],
   "metadata": {
    "collapsed": false,
    "ExecuteTime": {
     "end_time": "2024-09-16T07:10:11.720320Z",
     "start_time": "2024-09-16T07:10:11.706359Z"
    }
   },
   "outputs": [
    {
     "name": "stdout",
     "output_type": "stream",
     "text": [
      "Classification report:\n",
      " None\n",
      "Confusion matrix:\n",
      " None\n",
      "auc: None\n",
      "Pohdinta: ??????????\n"
     ]
    }
   ],
   "execution_count": 8
  },
  {
   "cell_type": "markdown",
   "source": [
    "## Tehtävä 1-2\n",
    "### Aihe: Uutisryhmien viestit, Luokittelija: Perseptroni (max. 3 p)\n",
    "\n",
    "Tarkista seuraava aineistoon, josta data ladataan:\n",
    "\n",
    "* `sklearn.datasets.fetch_20newsgroups`\n",
    "\n",
    "Nämä aineistot sisältävät 20 uutisryhmään lähetetyt viestit. Aineistoja ei tarvitse esikäsitellä ollenkaan.\n",
    "Luokituksessa käytetään tässä tehtävässä seuraavia luokkia:\n",
    "\n",
    "* _categories_: `['rec.sport.hockey', 'rec.sport.baseball', 'rec.autos']`\n",
    "* _categories_2_: `['comp.graphics', 'comp.os.ms-windows.misc', 'comp.windows.x']`\n",
    "\n",
    "Huomaa, että aineisto on jo valmiiksi jaettu testi- ja koulutusaineistoon (`fetch_20newsgroups(subset)`). `test \\ train` jako siis tehty.\n",
    "\n",
    "Käytä tehtävissä seuraavia muuttujia koulutus- ja testiaineistojen kanssa (`\"X_train\", \"y_train\", \"X_test\", \"y_test\"`).\n",
    "\n",
    "Muunna sekä koulutus- että testidataa `TfidfVectorizer`-luokan menetelmillä.\n",
    "* Skaalaus ei ole tarpeen tämän jälkeen\n",
    "* Tulosta tavalliseen tapaan datanäytteitä nähdäksesi, ovatko arvot oikeassa skaalassa välillä **0-1**.\n",
    "\n"
   ],
   "metadata": {
    "collapsed": false
   }
  },
  {
   "cell_type": "code",
   "source": [
    "from sklearn.datasets import fetch_20newsgroups\n",
    "from sklearn.metrics import classification_report, confusion_matrix, ConfusionMatrixDisplay\n",
    "from sklearn.feature_extraction.text import TfidfVectorizer\n",
    "from sklearn.linear_model import Perceptron\n",
    "import matplotlib.pyplot as plt\n",
    "\n",
    "categories = ['rec.sport.hockey', 'rec.sport.baseball', 'rec.autos']\n",
    "\n",
    "# TODO: aseta valittavan testijoukon nimi (subset) ja kategoriat (categories)\n",
    "ng_train = fetch_20newsgroups(subset='TODO', categories=TODO,\n",
    "                              remove=('headers', 'footers', 'quotes'))\n",
    "ng_test = fetch_20newsgroups(subset='TODO', categories=TODO,\n",
    "                             remove=('headers', 'footers', 'quotes'))\n",
    "\n",
    "vectorizer = TfidfVectorizer()\n",
    "\n",
    "# TODO: Muunna koulutusaineisto numeeriseksi fit_transform()-metodilla.\n",
    "# TODO: Muunna myös testiaineisto transform()-metodia käyttäen.\n"
   ],
   "metadata": {
    "collapsed": false,
    "ExecuteTime": {
     "end_time": "2024-09-16T07:10:15.860396Z",
     "start_time": "2024-09-16T07:10:11.757223Z"
    }
   },
   "outputs": [
    {
     "ename": "NameError",
     "evalue": "name 'TODO' is not defined",
     "output_type": "error",
     "traceback": [
      "\u001B[1;31m---------------------------------------------------------------------------\u001B[0m",
      "\u001B[1;31mNameError\u001B[0m                                 Traceback (most recent call last)",
      "Cell \u001B[1;32mIn[9], line 10\u001B[0m\n\u001B[0;32m      7\u001B[0m categories \u001B[38;5;241m=\u001B[39m [\u001B[38;5;124m'\u001B[39m\u001B[38;5;124mrec.sport.hockey\u001B[39m\u001B[38;5;124m'\u001B[39m, \u001B[38;5;124m'\u001B[39m\u001B[38;5;124mrec.sport.baseball\u001B[39m\u001B[38;5;124m'\u001B[39m, \u001B[38;5;124m'\u001B[39m\u001B[38;5;124mrec.autos\u001B[39m\u001B[38;5;124m'\u001B[39m]\n\u001B[0;32m      9\u001B[0m \u001B[38;5;66;03m# TODO: aseta valittavan testijoukon nimi (subset) ja kategoriat (categories)\u001B[39;00m\n\u001B[1;32m---> 10\u001B[0m ng_train \u001B[38;5;241m=\u001B[39m fetch_20newsgroups(subset\u001B[38;5;241m=\u001B[39m\u001B[38;5;124m'\u001B[39m\u001B[38;5;124mTODO\u001B[39m\u001B[38;5;124m'\u001B[39m, categories\u001B[38;5;241m=\u001B[39m\u001B[43mTODO\u001B[49m,\n\u001B[0;32m     11\u001B[0m                               remove\u001B[38;5;241m=\u001B[39m(\u001B[38;5;124m'\u001B[39m\u001B[38;5;124mheaders\u001B[39m\u001B[38;5;124m'\u001B[39m, \u001B[38;5;124m'\u001B[39m\u001B[38;5;124mfooters\u001B[39m\u001B[38;5;124m'\u001B[39m, \u001B[38;5;124m'\u001B[39m\u001B[38;5;124mquotes\u001B[39m\u001B[38;5;124m'\u001B[39m))\n\u001B[0;32m     12\u001B[0m ng_test \u001B[38;5;241m=\u001B[39m fetch_20newsgroups(subset\u001B[38;5;241m=\u001B[39m\u001B[38;5;124m'\u001B[39m\u001B[38;5;124mTODO\u001B[39m\u001B[38;5;124m'\u001B[39m, categories\u001B[38;5;241m=\u001B[39mTODO,\n\u001B[0;32m     13\u001B[0m                              remove\u001B[38;5;241m=\u001B[39m(\u001B[38;5;124m'\u001B[39m\u001B[38;5;124mheaders\u001B[39m\u001B[38;5;124m'\u001B[39m, \u001B[38;5;124m'\u001B[39m\u001B[38;5;124mfooters\u001B[39m\u001B[38;5;124m'\u001B[39m, \u001B[38;5;124m'\u001B[39m\u001B[38;5;124mquotes\u001B[39m\u001B[38;5;124m'\u001B[39m))\n\u001B[0;32m     15\u001B[0m vectorizer \u001B[38;5;241m=\u001B[39m TfidfVectorizer()\n",
      "\u001B[1;31mNameError\u001B[0m: name 'TODO' is not defined"
     ]
    }
   ],
   "execution_count": 9
  },
  {
   "cell_type": "markdown",
   "source": [
    "1. Käytä `scikit-learn`-kirjaston lineaarista perseptronia luodaksesi luokittelija. Tallenna luokittelija `pc`-muuttujaan. Käytä satunnaissiementä `12501`.\n",
    "\n",
    "2. Ennusta testausaineistosi todennäköisyys olla luokassa käyttäen luokittelijaasi ja tallenna luottamuspisteet muuttujaan `y_score`. Tallenna ennustettujen luokkien tulos muuttujaan `y_pred`.\n",
    "\n",
    "3. Tallenna luokitteluraportti `cr` ja sekaannusmatriisi `cm` käyttäen `metrics`-moduulia."
   ],
   "metadata": {
    "collapsed": false
   }
  },
  {
   "cell_type": "code",
   "execution_count": null,
   "outputs": [],
   "source": [
    "# TODO: Kirjoita toteutuksesi tähän soluun.\n",
    "pc = Perceptron(random_state=TODO)\n"
   ],
   "metadata": {
    "collapsed": false,
    "ExecuteTime": {
     "end_time": "2024-09-16T07:10:15.871348300Z",
     "start_time": "2024-08-21T13:23:06.785343Z"
    }
   }
  },
  {
   "cell_type": "code",
   "execution_count": null,
   "outputs": [],
   "source": [
    "# Tehtävän vastauksien ajaminen. Huom! Älä muokkaa tätä solua, vaan aja se, kun olet suorittanut tehtävän.\n",
    "\n",
    "print(f\"Predict: {y_pred} and score: {y_score}\")\n",
    "print(f'Perceptron average test accuracy: {pc.score(X_test, ng_test.target)}')\n",
    "print(cm)  # verrataan toteutuneita arvoja ennusteisin\n",
    "print(cr)"
   ],
   "metadata": {
    "collapsed": false,
    "ExecuteTime": {
     "end_time": "2024-09-16T07:10:15.873343200Z",
     "start_time": "2024-08-21T13:23:06.787340Z"
    }
   }
  },
  {
   "cell_type": "markdown",
   "source": [
    "Piirretään kuva sekaannusmatriisista"
   ],
   "metadata": {
    "collapsed": false
   }
  },
  {
   "cell_type": "code",
   "execution_count": null,
   "outputs": [],
   "source": [
    "# TODO: sekaannusmatriisin piirtäminen\n"
   ],
   "metadata": {
    "collapsed": false,
    "ExecuteTime": {
     "end_time": "2024-09-16T07:10:15.874340Z",
     "start_time": "2024-08-21T13:23:06.789363Z"
    }
   }
  },
  {
   "cell_type": "markdown",
   "source": [
    "# Tehtävä 1-3\n",
    "### Aihe: Uutisryhmien viestit, osa II (max. 2 p)\n",
    "\n",
    "Toteuta sama tehtävä kuin kohdassa 1-2, mutta toisella `categories_2` -kategorialistalla. Tarkoitus on myös verrata sanallisesti tehtävistä 1-2 ja 1-3 saatuja tuloksia toisiinsa. \n",
    "  \n",
    "* **Pohdinta**: Vertaa uutisryhmien opetustuloksia tehtävissä 1-2 sekä 1-3 toisiinsa ja pohdi sanallisesti, että mistä mahdolliset erot saaduissa tuloksissa johtuvat.\n",
    "\n"
   ],
   "metadata": {
    "collapsed": false
   }
  },
  {
   "cell_type": "code",
   "execution_count": null,
   "outputs": [],
   "source": [
    "from sklearn.datasets import fetch_20newsgroups\n",
    "from sklearn.metrics import classification_report, confusion_matrix, ConfusionMatrixDisplay\n",
    "from sklearn.feature_extraction.text import TfidfVectorizer\n",
    "from sklearn.linear_model import Perceptron\n",
    "import matplotlib.pyplot as plt\n",
    "\n",
    "categories_2 = ['comp.graphics', 'comp.os.ms-windows.misc', 'comp.windows.x']\n",
    "\n",
    "# TODO: aseta valittavan testijoukon nimi (subset) ja kategoriat (categories)\n",
    "ng_train = fetch_20newsgroups(subset='TODO', categories=TODO,\n",
    "                              remove=('headers', 'footers', 'quotes'))\n",
    "ng_test = fetch_20newsgroups(subset='TODO', categories=TODO,\n",
    "                             remove=('headers', 'footers', 'quotes'))\n",
    "\n",
    "vectorizer = TfidfVectorizer()\n",
    "\n",
    "# TODO: Muunna opetusaineisto fit_transform()-metodilla\n",
    "# TODO: Muunna myös testiaineisto transform()-metodia käyttäen.\n"
   ],
   "metadata": {
    "collapsed": false,
    "ExecuteTime": {
     "end_time": "2024-09-16T07:10:15.876334800Z",
     "start_time": "2024-08-21T13:23:06.790330Z"
    }
   }
  },
  {
   "cell_type": "code",
   "execution_count": null,
   "outputs": [],
   "source": [
    "# Tehtävän vastauksien ajaminen. Huom! Älä muokkaa tätä solua, vaan aja se, kun olet suorittanut tehtävän.\n",
    "\n",
    "print(f\"Predict: {y_pred} and score: {y_score}\")\n",
    "print(f'Perceptron average test accuracy: {clf.score(X_test, ng_test.target)}')\n",
    "print(confusion_matrix(ng_test.target, y_pred))  # verrataan toteutuneita arvoja ennusteisin\n",
    "print(classification_report(ng_test.target, y_pred))"
   ],
   "metadata": {
    "collapsed": false,
    "ExecuteTime": {
     "end_time": "2024-09-16T07:10:15.878330600Z",
     "start_time": "2024-08-21T13:23:06.792325Z"
    }
   }
  },
  {
   "cell_type": "markdown",
   "source": [
    "Sekaannusmatriisin piirtäminen `categories_2` -datalla:"
   ],
   "metadata": {
    "collapsed": false
   }
  },
  {
   "cell_type": "code",
   "source": [
    "# TODO: sekaannusmatriisin piirtäminen\n"
   ],
   "metadata": {
    "collapsed": false
   },
   "execution_count": null,
   "outputs": []
  },
  {
   "cell_type": "markdown",
   "source": [
    "### Tulosten pohdinta \n",
    "\n",
    "* **TODO**: POHDINTA TULOKSISTA. \n",
    "* **TODO**: MISTÄ EROT SAADUISSA TULOKSISSA JOHTUVAT?\n",
    "\n",
    "**TODO**: _Vastauksesi yllä oleviin kysymyksiin..._"
   ],
   "metadata": {
    "collapsed": false
   }
  }
 ],
 "metadata": {
  "kernelspec": {
   "display_name": "Python 3",
   "language": "python",
   "name": "python3"
  },
  "language_info": {
   "codemirror_mode": {
    "name": "ipython",
    "version": 2
   },
   "file_extension": ".py",
   "mimetype": "text/x-python",
   "name": "python",
   "nbconvert_exporter": "python",
   "pygments_lexer": "ipython2",
   "version": "2.7.6"
  }
 },
 "nbformat": 4,
 "nbformat_minor": 0
}
