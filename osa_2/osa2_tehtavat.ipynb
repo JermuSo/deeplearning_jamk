{
 "cells": [
  {
   "cell_type": "markdown",
   "metadata": {},
   "source": [
    "# Tehtävä 2-1. \n",
    "### Aihe: Neuroverkko käsin  (max. 4 p)"
   ]
  },
  {
   "cell_type": "code",
   "execution_count": 1,
   "metadata": {
    "collapsed": false,
    "jupyter": {
     "is_executing": true,
     "outputs_hidden": false
    }
   },
   "outputs": [],
   "source": [
    "# Kirjoita tähän tietosi!\n",
    "student_name = 'Jere Soininen'\n",
    "student_id = 'AB6802'"
   ]
  },
  {
   "cell_type": "markdown",
   "metadata": {
    "collapsed": false,
    "jupyter": {
     "outputs_hidden": false
    }
   },
   "source": [
    "Luo tässä tehtävässä **oma neuroverkko** käyttämällä vain **Core Python 3.x**- ja *NumPy*-kirjastoa.\n",
    "\n",
    "Tehtävässä on määritelty koordinaattiparit, joilla piirretään kaksivärisiä pisteitä (punainen ja sininen).\n",
    "Lopullisena tavoitteena on luoda neuroverkko, joka osaa sijoittaa pisteen koordinaattijärjestelmän punaisille tai sinisille alueille.\n",
    "\n",
    "Kun kaavioon piirretään uusi piste ja pisteen koordinaatit syötetään neuroverkkoon, se ennustaa pisteen värin ja todennäköisyyden.\n",
    "\n",
    "Tehtävän tarkoitus: ymmärtää paremmin neuroverkkoalgoritmin toimintaa.\n",
    "\n",
    "Tehtävän vaiheet ovat:\n",
    "\n",
    "1. Luo opetusdatan koordinaattipisteet sekä värit ominaisuuksiin ja ennustettaviin arvoihin.\n",
    "2. Luo neuroverkkoluokka, jonka rakenne on:\n",
    "    * Sisääntulokerros, jossa on kaksi neuronia `(x, y)` - eli koordinaattipari pisteelle.\n",
    "    * Yksi piilotettua kerros, jossa on **6** neuronia ja aktivointifunktiona `sigmoid`.\n",
    "    * Ulostulokerros, jossa yksi neuroni ja aktivointifunktiona `sigmoid`.\n",
    "    * Ulostulokerroksen tulos on numeerinen arvo (`float`) väliltä `[0, 1]`.\n",
    "3. Luo funktiot, joiden avulla lasket neuroverkon ennustuksen syöttödatalle (*forwardpropagation*) ja päivitä yhteyksien painoarvoja virheen avulla (*backpropagation*).\n",
    "4. Syötä koulutusdata 1000 kertaa neuroverkon läpi.\n",
    "    * Syötä jokaisella kierroksella koulutusdata rivi riviltä neuroverkon läpi ja päivitä painoarvot.\n",
    "    * Tallenna kierroksen aikana virheet jokaiselle syötölle, ja lisää kierroksen virheistä keskiarvo listaan. Piirrä kuvaaja siitä, kuinka virhe muuttuu koulutuksen aikana.\n",
    "5. Ennusta neuroverkolla (`float`-arvo), minkä värinen on piste: `[0.5, 8.7]`. Kuinka tarkka ennuste mielestäsi on?\n",
    "6. Ennusta neuroverkolla (`float`-arvo), minkä värinen on piste: `[15, -15]`. Kuinka tarkka ennuste mielestäsi on?\n",
    "7. Tutki miten `backpropagation()`-metodin `learning_rate`-argumentin muutos vaikuttaa (`0.01 -- 0.001`) tulokseen?\n",
    "8. Tutki miten `make_blobs()`-funktion `n_samples`-ominaisuuden muuttaminen vaikuttaa tulokseen?\n",
    "9. Tutki miten `make_blobs()`-funktion `cluster_std`-ominaisuuden muuttaminen vaikuttaa tulokseen?\n",
    "\n",
    "\n",
    "Vinkkejä:\n",
    "* Piirrä neuroverkon rakenne piirrustusohjelmalla tai paperille, näet silloin yhteyksien määrän jokaisessa kerroksessa.\n",
    "* Käytä olemassa olevaa ratkaisua materiaaleista, lisää siihen tarvittavat laskut jokaiselle kerrokselle.\n",
    "\n",
    "Kun virhetoiminto (häviö) on määritetty, gradient descent -menetelmää käytetään sen minimoimiseen.\n",
    "Siinä lasketaan virhefunktion gradientti suhteessa painotuskertoimiin ja se liikkuu askel askeleelta vastakkaiseen suuntaan gradientin suhteen, kunnes optimi löytyy.\n",
    "\n",
    "### Mitä sinun tulee toteuttaa tässä tehtävässä?\n",
    "\n",
    "* `class NeuralNetwork` - käyttövalmis luokka, eli muutoksia ei tarvita\n",
    "* `train_neural_network()` - käyttövalmis, kouluttaa neuroverkkoa ja säästää häviön jokaisen kierroksen jälkeen\n",
    "* `create_dots_and_labels()` - vaatii myös omaa toteutuskoodia\n",
    "* piirtää neuroverkon häviöt (*losses*)\n",
    "* laskea neuroverkon ennusteen syötteelle `[x, y]` annetussa muuttujassa."
   ]
  },
  {
   "cell_type": "code",
   "execution_count": 2,
   "metadata": {
    "ExecuteTime": {
     "end_time": "2024-09-16T07:10:11.512877Z",
     "start_time": "2024-09-16T07:10:09.495594Z"
    }
   },
   "outputs": [
    {
     "data": {
      "text/plain": [
       "<matplotlib.collections.PathCollection at 0x1828345f400>"
      ]
     },
     "execution_count": 2,
     "metadata": {},
     "output_type": "execute_result"
    },
    {
     "data": {
      "image/png": "[encoded data removed]",
      "text/plain": [
       "<Figure size 640x480 with 1 Axes>"
      ]
     },
     "metadata": {},
     "output_type": "display_data"
    }
   ],
   "source": [
    "# tehtävässä käytetään make_blobs()-funktiota, jota voi käyttää testidatasetin piirtoon\n",
    "import matplotlib.pyplot as plt\n",
    "from sklearn.datasets import make_blobs\n",
    "dots, labels = make_blobs(n_samples=50, centers=2, cluster_std=8, center_box=(-20, 20), random_state=151)\n",
    "colors = ['red' if label == 0 else 'blue' for label in labels]\n",
    "plt.scatter(dots[:,0],dots[:,1],color=colors)"
   ]
  },
  {
   "cell_type": "code",
   "execution_count": 3,
   "metadata": {
    "ExecuteTime": {
     "end_time": "2024-09-16T07:10:11.805094Z",
     "start_time": "2024-09-16T07:10:11.783157Z"
    },
    "collapsed": false,
    "jupyter": {
     "outputs_hidden": false
    }
   },
   "outputs": [],
   "source": [
    "import numpy as np\n",
    "\n",
    "# Tehtävän toteutus - tämä on valmis luokka käytettäväksi\n",
    "class NeuralNetwork:\n",
    "    def __init__(self):\n",
    "        self.weights1 = np.random.rand(2, 6)\n",
    "        self.weights2 = np.random.rand(6, 1)\n",
    "\n",
    "    def __init__(self, input_neurons, hidden_neurons):\n",
    "        self.weights1 = np.random.rand(input_neurons, hidden_neurons)\n",
    "        self.weights2 = np.random.rand(hidden_neurons, 1)\n",
    "\n",
    "    # Virhefunktio\n",
    "    def loss_function(self, true, prediction):\n",
    "        return 0.5 * (true - prediction) ** 2\n",
    "\n",
    "    # Virhefunktion derivaatta\n",
    "    def loss_function_derivative(self, true, prediction):\n",
    "        return true - prediction\n",
    "\n",
    "    # Sigmoid funktio\n",
    "    def sigmoid(self, x):\n",
    "        return 1 / (1 + np.exp(-x))\n",
    "\n",
    "    # Sigmoidin derivaatta\n",
    "    def sigmoid_derivative(self, x):\n",
    "        return x * (1 - x)\n",
    "\n",
    "    # Neuroverkon läpikäynti\n",
    "    def forwardpropagation(self, X, y):\n",
    "        self.X = X\n",
    "        self.y = y\n",
    "        self.layer1 = self.sigmoid(np.dot(self.X, self.weights1))\n",
    "        self.output = self.sigmoid(np.dot(self.layer1, self.weights2))\n",
    "\n",
    "        # lasketaan häviö eli neuroverkon ennustuksen etäisyys oikeasta arvosta\n",
    "        self.loss = self.loss_function(self.y, self.output)\n",
    "\n",
    "    # Painoarvojen päivitys backpropagation - menetelmällä\n",
    "    def backpropagation(self, learning_rate):\n",
    "        output_error = self.loss_function_derivative(self.y, self.output)\n",
    "        output_delta = output_error * self.sigmoid_derivative(self.output)\n",
    "        weights2_adjustment = np.dot(self.layer1.T, output_delta)\n",
    "\n",
    "        layer1_error = np.dot(output_delta, self.weights2.T)\n",
    "        layer1_delta = layer1_error * self.sigmoid_derivative(self.layer1)\n",
    "        weights1_adjustment = np.dot(self.X.T, layer1_delta)\n",
    "\n",
    "        self.weights1 += learning_rate * weights1_adjustment\n",
    "        self.weights2 += learning_rate * weights2_adjustment\n"
   ]
  },
  {
   "cell_type": "markdown",
   "metadata": {
    "collapsed": false,
    "jupyter": {
     "outputs_hidden": false
    }
   },
   "source": [
    " `create_dots_and_labels()`: luodaan pisteet ja nimekkeet sekä nimikkeiden pohjalta asetetaan RGB-väri pisteelle.\n",
    " * toteuta seuraava: Luo väritaulukko, jossa väri on `[label: 0: \"red\" tai 1: \"blue\"]`\n",
    " * Selvitä miten `make_blobs()` toimii\n",
    "\n",
    " `train_neural_network()`: Kouluttaa neuroverkon ja tallentaa häviön joka epoch-kierroksen jälkeen (valmis toteutus)\n",
    "\n",
    "ks. alla olevasta koodilohkosta **TODO** -kohdat, jotka vaativat oman koodin kirjoittamista."
   ]
  },
  {
   "cell_type": "code",
   "execution_count": 4,
   "metadata": {
    "ExecuteTime": {
     "end_time": "2024-09-16T07:10:11.849976Z",
     "start_time": "2024-09-16T07:10:11.833022Z"
    },
    "collapsed": false,
    "jupyter": {
     "outputs_hidden": false
    }
   },
   "outputs": [],
   "source": [
    "# funktio palauttaa taulukon, jossa on [dots, labels, colors]\n",
    "def create_dots_and_labels():\n",
    "    # TODO: Tutki miten make_blobs()-funktion cluster_std-ominaisuuden kasvattaminen vaikuttaa tulokseen?\n",
    "    dots, labels = make_blobs(n_samples=50, centers=2, cluster_std=8, center_box=(-20, 20), random_state=151)\n",
    "    # TODO: luo colors-väritaulukko labels-taulukon arvojen pohjalta. väritaulukossa väri on [\"red\" tai \"blue\"]\n",
    "    # värit saa ylempänä?\n",
    "    colors = []\n",
    "    return [dots, labels, colors]\n",
    "\n",
    "# Funktio kouluttaa neuroverkon ja tallentaa häviön joka epoch-kierroksen jälkeen (valmis toteutus, mutta learning rate arvoa voi muuttaa)\n",
    "def train_neural_network(ntwrk, train_X, train_y):\n",
    "    losses_arr = []  # tallentaa kierroksen virheet\n",
    "    epochs = 1000\n",
    "    for epoch in range(epochs):\n",
    "        batch_losses = []\n",
    "        # Käydään jokaisessa kierroksessa jokainen koordinaattipari läpi\n",
    "        for X, y in zip(train_X, train_y):\n",
    "            ntwrk.forwardpropagation(np.array([X]), np.array([y]))\n",
    "            # TODO: Tutki Miten learning_rate-muuttujan muutos (0.01 - 0.001) vaikuttaa tulokseen?\n",
    "            ntwrk.backpropagation(learning_rate=0.01)\n",
    "            batch_losses.append(ntwrk.loss[0])\n",
    "        losses_arr.append(np.average(batch_losses))  # lasketaan keskiarvo yhden kierroksen virhearvoista\n",
    "    return losses_arr\n"
   ]
  },
  {
   "cell_type": "markdown",
   "metadata": {
    "collapsed": false,
    "jupyter": {
     "outputs_hidden": false
    }
   },
   "source": [
    "* Määritetään koulutusdata ja luodaan neuroverkko\n",
    "    * `create_dots_and_labels()`\n",
    "* Piirretään pisteet (kuviotyyppinä `scatter plot`)\n",
    "* Koulutetaan neuroverkkoa  ja otetaan joka kierroksen jälkeen neuroverkon häviö ylös"
   ]
  },
  {
   "cell_type": "code",
   "execution_count": 5,
   "metadata": {
    "ExecuteTime": {
     "end_time": "2024-09-16T07:10:11.894855Z",
     "start_time": "2024-09-16T07:10:11.883884Z"
    }
   },
   "outputs": [
    {
     "name": "stdout",
     "output_type": "stream",
     "text": [
      "[0.00058207]\n"
     ]
    }
   ],
   "source": [
    "# Tehtävän toteutus jatkuu tästä\n",
    "\n",
    "# TODO: Luodaan ja koulututaan neuroverkko\n",
    "# ... NeuralNetwork(sisaantulokerroksen_neuronit, piilokerroksen_neuronit) # ks. ohjeen kohta 2.\n",
    "# ... train_neural_network(...)\n",
    "\n",
    "# TODO: Luodaan ja koulututaan neuroverkko ja otetaan joka kierroksen jälkeen neuroverkon häviö ylös\n",
    "input_neurons = 2\n",
    "hidden_neurons = 6\n",
    "ntwrk = NeuralNetwork(input_neurons, hidden_neurons)\n",
    "\n",
    "\n",
    "epoch_losses = train_neural_network(ntwrk, dots, labels)\n",
    "print(ntwrk.loss[0])"
   ]
  },
  {
   "cell_type": "markdown",
   "metadata": {
    "collapsed": false,
    "jupyter": {
     "outputs_hidden": false
    }
   },
   "source": [
    "Piirretään neuroverkon häviöt"
   ]
  },
  {
   "cell_type": "code",
   "execution_count": 6,
   "metadata": {
    "ExecuteTime": {
     "end_time": "2024-09-16T07:10:11.945722Z",
     "start_time": "2024-09-16T07:10:11.932756Z"
    },
    "collapsed": false,
    "jupyter": {
     "outputs_hidden": false
    }
   },
   "outputs": [
    {
     "data": {
      "image/png": "[encoded data removed]",
      "text/plain": [
       "<Figure size 640x480 with 1 Axes>"
      ]
     },
     "metadata": {},
     "output_type": "display_data"
    }
   ],
   "source": [
    "# TODO: Piirretään neuroverkon häviöt\n",
    "import matplotlib.pyplot as plt\n",
    "plt.plot(epoch_losses)\n",
    "plt.xlabel('Epoch')\n",
    "plt.ylabel('Loss')\n",
    "plt.title('Loss per Epoch')\n",
    "plt.show()"
   ]
  },
  {
   "cell_type": "markdown",
   "metadata": {
    "collapsed": false,
    "jupyter": {
     "outputs_hidden": false
    }
   },
   "source": [
    "### Lasketaan ennusteet\n",
    "* laske `output1`-muuttujaan neuroverkon ennuste syötteelle `[0.5, 8.7]`.\n",
    "* laske `output2`-muuttujaan neuroverkon ennuste syötteelle `[-30, -30]`.\n"
   ]
  },
  {
   "cell_type": "code",
   "execution_count": 7,
   "metadata": {
    "ExecuteTime": {
     "end_time": "2024-09-16T07:10:11.999577Z",
     "start_time": "2024-09-16T07:10:11.988621Z"
    },
    "collapsed": false,
    "jupyter": {
     "outputs_hidden": false
    }
   },
   "outputs": [],
   "source": [
    "# Tehtävän toteutus\n",
    "\n",
    "# TODO: Ennusteiden laskeminen yo. kahdelle pisteille\n",
    "\n",
    "# TODO: Lasketaan ennuste ensimmäiselle syötteelle\n",
    "test_X_nn = np.array([0.5, 8.7])\n",
    "layer1_output = ntwrk.sigmoid(np.dot(test_X_nn, ntwrk.weights1))  # Ensimmäinen kerros, painojen käyttö\n",
    "output1 = ntwrk.sigmoid(np.dot(layer1_output, ntwrk.weights2))[0]  # Lopullinen ennuste\n",
    "\n",
    "# Annetaan edellisen kerroksen tulokset ja toiset painoarvot edellä käytetylle funktiolle\n",
    "#output1 = [0.9]  # TODO: Alustettu ettei tule virheitä. Arvo on laskettava ja sijoitettava tähän muuttujaan.\n",
    "\n",
    "# TODO: Lasketaan ennuste toiselle syötteelle\n",
    "test_X_nn2 = np.array([15, -15])\n",
    "layer1_output2 = ntwrk.sigmoid(np.dot(test_X_nn2, ntwrk.weights1))  # Ensimmäinen kerros, painojen käyttö\n",
    "output2 = ntwrk.sigmoid(np.dot(layer1_output2, ntwrk.weights2))[0]  # Lopullinen ennuste\n",
    "\n",
    "#output2 = [0.1]   # TODO: Alustettu ettei tule virheitä. Arvo on laskettava ja sijoitettava tähän muuttujaan.\n"
   ]
  },
  {
   "cell_type": "code",
   "execution_count": 8,
   "metadata": {
    "ExecuteTime": {
     "end_time": "2024-09-16T07:10:12.054429Z",
     "start_time": "2024-09-16T07:10:12.040466Z"
    },
    "tags": [
     "answers_1_2"
    ]
   },
   "outputs": [
    {
     "name": "stdout",
     "output_type": "stream",
     "text": [
      "0.9495528153513716\n",
      "0.025803137483253316\n"
     ]
    }
   ],
   "source": [
    "# Tehtävän vastaukset. Huom! Älä muokkaa tätä solua, vaan aja se, kun olet suorittanut tehtävän.\n",
    "print(output1)\n",
    "print(output2)"
   ]
  },
  {
   "cell_type": "markdown",
   "metadata": {},
   "source": [
    "# Tehtävä 2-2\n",
    "### Aihe: Yksinkertainen neuroverkko Keras Sequential API:lla (max. 3 p)\n",
    "\n",
    "Koulutetaan yksinkertainen neuroverkko **Keras**-rajapinnalla käyttäen `titanic-dataa`\n",
    "Datan saat osoitteesta: `https://student.labranet.jamk.fi/~varpe/datananalk2019/kerta10/titanic.csv`\n",
    "\n",
    "Tehtävästä on löydyttävä vaiheet:\n",
    "1. Valitse Titanic-datasta vain kolme-neljä tärkeää feature-piirrettä tehtävään\n",
    "   * tästä aineistosta on ollut esimerkkejä jo koneoppimisen puolella (ja niitä voi lainata tai soveltaa), mutta tätä voi halutessaan myös itse tutkia tarkemmin\n",
    "2. Luo neuroverkko (käytä `tf.keras.Sequential()`-metodia)\n",
    "3. Määritä häviöfunktio ja optimisaattori (käytä `model.compile()`-metodia)\n",
    "4. Kouluta neuroverkko (käytä `model.fit()`-metodia)\n",
    "5. Vertaa neuroverkon antamia ennustuksia testidataan (käytä `model.evaluate()`-metodia)\n",
    "6. Tulosta välikierrosten (`epoch`) tulokset konsolille.\n",
    "7. Muuta neuroverkon rakennetta ja yritä dokumentoida neuroverkko, jolla sait parhaat tulokset.\n",
    "\n",
    "Esimerkki tulostus epoch-välikierroksilta:\n",
    "\n",
    " ```\n",
    " 23/23 [==============================] - 0s 687us/step - loss: 2.2182 - accuracy: 0.6236\n",
    " Epoch 2/1000\n",
    " 23/23 [==============================] - 0s 702us/step - loss: 1.4468 - accuracy: 0.6238\n",
    " ```\n",
    "\n",
    "Myös epoch-kierrosmäärien vaikutusta voi testata. Useita neuroverkkorakenteita kannattaa kokeilla ja vertailla niistä saatuja oppimistuloksia.\n"
   ]
  },
  {
   "cell_type": "markdown",
   "metadata": {
    "collapsed": false,
    "jupyter": {
     "outputs_hidden": false
    }
   },
   "source": [
    "### Datan esikäsittely + Keras - Titanic-data\n",
    "\n",
    "Versio, jossa pyritään hakemaan 3-4 tärkeintä piirrettä, jotka korreloivat eniten `survived`-kentän (luokkamuuttujan) kanssa.\n"
   ]
  },
  {
   "cell_type": "code",
   "execution_count": 9,
   "metadata": {
    "ExecuteTime": {
     "end_time": "2024-09-16T07:10:12.511742Z",
     "start_time": "2024-09-16T07:10:12.088339Z"
    }
   },
   "outputs": [
    {
     "name": "stdout",
     "output_type": "stream",
     "text": [
      "   Survived     Sex   Age     Fare\n",
      "0         0    male  22.0   7.2500\n",
      "1         1  female  38.0  71.2833\n",
      "2         1  female  26.0   7.9250\n"
     ]
    },
    {
     "data": {
      "text/plain": [
       "'\\nFeature:       Pclass - Relative importance:  8.1 %\\nFeature:          Sex - Relative importance: 27.2 %\\nFeature:          Age - Relative importance: 25.8 %\\nFeature:        SibSp - Relative importance:  5.2 %\\nFeature:        Parch - Relative importance:  3.8 %\\nFeature:         Fare - Relative importance: 29.9 %\\n'"
      ]
     },
     "execution_count": 9,
     "metadata": {},
     "output_type": "execute_result"
    }
   ],
   "source": [
    "# Tehtävän toteutus\n",
    "# Datan Esikäsittely\n",
    "\n",
    "import pandas as pd\n",
    "import matplotlib.pyplot as plt\n",
    "import seaborn as sns\n",
    "\n",
    "df = pd.read_csv('https://student.labranet.jamk.fi/~varpe/datananalk2019/kerta10/titanic.csv')\n",
    "\n",
    "#print(df.head())\n",
    "# TODO: esikäsittelyn loppu toteutus\n",
    "# katsoin feature_importancella ominasuuksien tärkeydet ja pidin kolme parasta, kommentissa vielä vahvistus\n",
    "df = df[['Survived', 'Sex', 'Age', 'Fare']]\n",
    "print(df.head(3))\n",
    "\n",
    "df['Sex'] = df['Sex'].map({'male': 0, 'female': 1})\n",
    "df['Age'] = df['Age'].fillna(df['Age'].mean())\n",
    "df['Fare'] = df['Fare'].fillna(df['Fare'].mean())\n",
    "\n",
    "X = df.drop('Survived', axis=1)\n",
    "y = df['Survived']\n",
    "#print(X.head(3))\n",
    "\n",
    "\"\"\"\n",
    "Feature:       Pclass - Relative importance:  8.1 %\n",
    "Feature:          Sex - Relative importance: 27.2 %\n",
    "Feature:          Age - Relative importance: 25.8 %\n",
    "Feature:        SibSp - Relative importance:  5.2 %\n",
    "Feature:        Parch - Relative importance:  3.8 %\n",
    "Feature:         Fare - Relative importance: 29.9 %\n",
    "\"\"\""
   ]
  },
  {
   "cell_type": "markdown",
   "metadata": {
    "collapsed": false,
    "jupyter": {
     "outputs_hidden": false
    }
   },
   "source": [
    "### Aineiston jakaminen\n",
    "\n",
    "* Poistetaan ennustettava luokkamuuttuja datasta.\n",
    "* jaetaan data opetus- ja testidataan.\n"
   ]
  },
  {
   "cell_type": "code",
   "execution_count": 10,
   "metadata": {
    "ExecuteTime": {
     "end_time": "2024-09-16T07:10:12.672809Z",
     "start_time": "2024-09-16T07:10:12.656870Z"
    },
    "collapsed": false,
    "jupyter": {
     "outputs_hidden": false
    }
   },
   "outputs": [],
   "source": [
    "# Tehtävän toteutus\n",
    "\n",
    "# TODO: Irrotetaan datasta ennustettava luokkamuuttuja\n",
    "# irrotettu ylemmässä esikäsittelyssä\n",
    "\n",
    "# TODO: Jako opetus- ja testidataan\n",
    "from sklearn.model_selection import train_test_split\n",
    "from sklearn.preprocessing import MinMaxScaler\n",
    "\n",
    "# Divide the data into features and predictable variables (features and labels)\n",
    "# Convert DataFrames to NumPy arrays with the .values attribute\n",
    "# materiaalissa käytettiin datasettiä jossa oli 150 riviä, ja siinä oli jako 120:30 eli 20% test_size?\n",
    "# meillä nyt 892 riviä joten otetaan 192 riviä testaukselle joka on hieman yli 20%\n",
    "# tämä olisi voinut myös tehdä validantion splitillä minkä tajusin myöhemmin mutta mennään taas näillä\n",
    "# mitä on ensin raapustettu\n",
    "train_X, test_X = X[0:720].values, X[720:].values\n",
    "train_y, test_y = y[0:720].values, y[720:].values\n",
    "\n",
    "mms = MinMaxScaler().fit(train_X)\n",
    "\n",
    "train_X = pd.DataFrame(mms.transform(train_X), columns=X.columns)\n",
    "test_X = pd.DataFrame(mms.transform(test_X), columns=X.columns)"
   ]
  },
  {
   "cell_type": "markdown",
   "metadata": {
    "collapsed": false,
    "jupyter": {
     "outputs_hidden": false
    }
   },
   "source": [
    "### Tehtävän toteutus Keras-kirjastoa käyttäen\n",
    "\n",
    "Luodaan neuroverkko, jossa on `Dense`-kerroksia peräkkäin (`Sequential`). Määritä nämä kaksi parametriä ainakin:\n",
    "* `units` – dimensionality of the output space.\n",
    "* `activation` – Activation function to use. If you don't specify anything, no activation function is applied.\n",
    "\n",
    "Luodaan neuroverkko käyttäen `Sequential`-luokkaa.\n",
    "\n",
    "      model = tf.keras.Sequential([\n",
    "          tf.keras.layers.Dense(neurons, activation='relu'), ...\n",
    "          # Define Layers in between (one or more hidden layers)\n",
    "          # In the output layer there is only one neuron (i.e. Survived, the output value is between 0-1)\n",
    "\n",
    "Huom! Useita erilaisia neuroverkkorakenteita kannattaa kokeilla ja vertailla niistä saatuja oppimistuloksia."
   ]
  },
  {
   "cell_type": "code",
   "execution_count": 11,
   "metadata": {
    "ExecuteTime": {
     "end_time": "2024-09-16T07:10:27.107771Z",
     "start_time": "2024-09-16T07:10:12.742624Z"
    },
    "collapsed": false,
    "jupyter": {
     "outputs_hidden": false
    }
   },
   "outputs": [],
   "source": [
    "# Tehtävät toteutus\n",
    "import tensorflow as tf\n",
    "tf.keras.backend.set_floatx('float64')\n",
    "\n",
    "# TODO: Luodaan neuroverkko\n",
    "#\n",
    "# model = tf.keras.Sequential([\n",
    "#  tf.keras.layers.Dense(...),\n",
    "\n",
    "model = tf.keras.Sequential([\n",
    "    tf.keras.layers.Dense(8, activation='relu'),\n",
    "    tf.keras.layers.Dense(16, activation='relu'),\n",
    "    tf.keras.layers.Dense(4, activation='relu'),\n",
    "    tf.keras.layers.Dense(1, activation='sigmoid')\n",
    "])\n",
    "\n"
   ]
  },
  {
   "cell_type": "markdown",
   "metadata": {
    "collapsed": false,
    "jupyter": {
     "outputs_hidden": false
    }
   },
   "source": [
    "Seuraavat vaiheet tehtävässä ovat:\n",
    "\n",
    "* Käännä malli (`model.compile()`)\n",
    "* Harjoittele neuroverkkoa *n epoch* -kierroksella (`model.fit()`)\n",
    "* Vertaa saatuja oppimistuloksia testiaineistoon (`model.evaluate()`)\n",
    "* Määritä häviöfunktio ja optimisaattori.\n",
    "* Määritä loss-funktio: `loss='binary_crossentropy'`\n",
    "* Vertaa tuloksia testidataan\n",
    "\n",
    "Huom! `verbose=1` on hyvä vaihtoehto `fit()`/`evaluate()`-funktioissa, jonka avulla voit nähdä kuinka opetus etenee _epoch_-kierroksittain."
   ]
  },
  {
   "cell_type": "code",
   "execution_count": 12,
   "metadata": {
    "ExecuteTime": {
     "end_time": "2024-09-16T07:10:27.159626Z",
     "start_time": "2024-09-16T07:10:27.148628Z"
    },
    "collapsed": false,
    "jupyter": {
     "outputs_hidden": false
    }
   },
   "outputs": [
    {
     "name": "stdout",
     "output_type": "stream",
     "text": [
      "6/6 [==============================] - 0s 508us/step - loss: 0.4360 - accuracy: 0.8246\n"
     ]
    }
   ],
   "source": [
    "# Tehtävän toteutus\n",
    "# TODO: Käännä malli\n",
    "model.compile(loss=tf.keras.losses.BinaryCrossentropy(),\n",
    "              optimizer=tf.keras.optimizers.Adam(learning_rate=0.001),\n",
    "              metrics=['accuracy'])\n",
    "# TODO: Kouluta neuroverkko n epoch-kierrosta\n",
    "# verbose pois sillä rivejä tuli liikaa mutta katsoin aluksi miten se näytti epoch kierroksia\n",
    "model.fit(train_X, train_y,\n",
    "          verbose=0,\n",
    "          epochs=1000)\n",
    "\n",
    "\n",
    "results = model.evaluate(test_X, test_y) # TODO: Alustettu ettei tule virheitä. Tulokset laskettava tehtävässä tähän muuttujaanc."
   ]
  },
  {
   "cell_type": "code",
   "execution_count": 13,
   "metadata": {
    "ExecuteTime": {
     "end_time": "2024-09-16T07:10:27.212458Z",
     "start_time": "2024-09-16T07:10:27.202484Z"
    },
    "tags": [
     "answers_1_3"
    ]
   },
   "outputs": [
    {
     "name": "stdout",
     "output_type": "stream",
     "text": [
      "Test Loss:0.4359948584542421 Test Accuracy:82.45614035087719%\n"
     ]
    }
   ],
   "source": [
    "# Tehtävän vastaukset. Huom! Älä muokkaa tätä solua, vaan aja se, kun olet suorittanut tehtävän. Sijoita results - muuttujaan model.evaluate()-funktion antama tulos.\n",
    "# TODO: Muista määrittää model.compile() - funktioon seurattavaksi suureeksi metrics=['accuracy'] neuroverkon ennustuksien tarkkuuden määrittelemiseksi.\n",
    "print(f\"Test Loss:{results[0]} Test Accuracy:{results[1]*100}%\")"
   ]
  },
  {
   "cell_type": "markdown",
   "metadata": {
    "collapsed": false,
    "jupyter": {
     "outputs_hidden": false
    }
   },
   "source": [
    "**Tehtävän tuloksesta**:\n",
    "\n",
    "Test Accuracy: > **n. 80 %** -- tarkkuus on jo aika hyvä, mutta toki parempaakin saa hakea (jos haluaa käyttää paljon ylimääräistä aikaa tuloksen optimointiin). **85%** tarkkuu on jo erinomainen.\n"
   ]
  },
  {
   "cell_type": "markdown",
   "metadata": {},
   "source": [
    "## Ympäripyöreää pohdintaa ja jupinaa\n",
    "\n",
    "Nyt saa säädöt riittää, paljon kokeilin kaikenlaisia temppuja ja säätöjä mutta jäädään tuohon ~82%. Toivottavasti menee tehtävät oikein.\n",
    "\n",
    "Koitin muutella aika reilustikkin eri parametreja ja käytinkin erilaisia työkaluja kuten dropouttia ja l2 rajaamisia mutta en saanut niillä merkittäviä tulosten vaihteluja. Myöskin epochien määrän vaihtelu vaikutti mielestäni omituisen vähän tuloksiin. Piirsin yhdessä vaiheessa kuvan jossa näin virheiden muutoksia epochien määrän mukaan ja val_error kasvoi heti alusta asti jonka jälkeen se tasoittui ja oli hyvin tasainen esim 1000 kierrokseen asti. Loss per epoch oli ihan eri näköinen kuin ykköstehtävässä...\n",
    "\n",
    "Jätin sen nyt tuhanteen. Luku ei ole optimaalinen laskentatehoon verrattuna, nosto 100 -> 1000 paransi tulosta noin prosentilla, joten on varmaan käyttökohteesta kiinni kuinka tärkeää tuo nosto on.\n",
    "\n",
    "Ärsyttävää kun on vähän ymmärrystä mitä tapahtuu ja miten tässä parametrien muutto korreloituu tuloksiin, mutta ei kuitenkaan ymmärrä oikein mitään tai ainakaan sitä miksi juuri asia x muutos y verran vaikuttaa tulokseen z juuri näin :D tai siltä ainakin tuntuu mutta on kuitenkin mielenkiintoista ei vaan ole nyt aikaa käyttää enempää\n",
    "\n",
    "Koneoppiminen oli huomattavasti helpompaa hahmottaa päässä mutta se nyt varmasti on normaalia ja ei näiden varmaan helppoja tarkoitus ole olla."
   ]
  },
  {
   "cell_type": "code",
   "execution_count": null,
   "metadata": {},
   "outputs": [],
   "source": []
  }
 ],
 "metadata": {
  "kernelspec": {
   "display_name": "Python 3 (ipykernel)",
   "language": "python",
   "name": "python3"
  },
  "language_info": {
   "codemirror_mode": {
    "name": "ipython",
    "version": 3
   },
   "file_extension": ".py",
   "mimetype": "text/x-python",
   "name": "python",
   "nbconvert_exporter": "python",
   "pygments_lexer": "ipython3",
   "version": "3.10.13"
  }
 },
 "nbformat": 4,
 "nbformat_minor": 4
}
